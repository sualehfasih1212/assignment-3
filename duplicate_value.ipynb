{
 "cells": [
  {
   "cell_type": "code",
   "execution_count": 6,
   "metadata": {},
   "outputs": [
    {
     "name": "stdout",
     "output_type": "stream",
     "text": [
      "Duplicate elements in given array: \n",
      "1998\n",
      "@\n",
      "*\n"
     ]
    }
   ],
   "source": [
    "list = [\"Dawood\", \"1998\", '@', \"30\", \"11\", \"November\", \"1998\", '*', '@', '*']\n",
    "print(\"Duplicate elements in given array: \");       \n",
    "for i in range(0, len(list)):    \n",
    "    for j in range(i+1, len(list)):    \n",
    "        if(list[i] == list[j]):    \n",
    "            print(list[j]);"
   ]
  }
 ],
 "metadata": {
  "kernelspec": {
   "display_name": "Python 3",
   "language": "python",
   "name": "python3"
  },
  "language_info": {
   "codemirror_mode": {
    "name": "ipython",
    "version": 3
   },
   "file_extension": ".py",
   "mimetype": "text/x-python",
   "name": "python",
   "nbconvert_exporter": "python",
   "pygments_lexer": "ipython3",
   "version": "3.7.4"
  }
 },
 "nbformat": 4,
 "nbformat_minor": 2
}
