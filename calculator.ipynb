{
 "cells": [
  {
   "cell_type": "code",
   "execution_count": 9,
   "metadata": {},
   "outputs": [
    {
     "name": "stdout",
     "output_type": "stream",
     "text": [
      "Simple Calculator\n",
      "\n",
      "\n",
      "\n",
      "Press 1 for Addition\n",
      "Press 2 for Subtraction\n",
      "Press 3 for Multiplication\n",
      "Press 4 for Division\n",
      "Press 5 for Power\n",
      "\n",
      "\n",
      "Select the choice of Opertaion (1 - 5):3\n",
      "Enter the 1st Number:5\n",
      "Enter the 2nd Number:8\n",
      "The Multiplication of 5.0 and 8.0 are: 40.0\n"
     ]
    }
   ],
   "source": [
    "print(\"Simple Calculator\\n\")\n",
    "print(\"\\n\\nPress 1 for Addition\")\n",
    "print(\"Press 2 for Subtraction\")\n",
    "print(\"Press 3 for Multiplication\")\n",
    "print(\"Press 4 for Division\")\n",
    "print(\"Press 5 for Power\\n\\n\")\n",
    "select = int(input(\"Select the choice of Opertaion (1 - 5):\"))\n",
    "if select == 1:\n",
    "    num1 = float(input(\"Enter the 1st Number:\"))\n",
    "    num2 = float(input(\"Enter the 2nd Number:\"))\n",
    "    print(f\"The Addition of {num1} and {num2} are:\",num1 + num2)\n",
    "elif select == 2:\n",
    "    num1 = float(input(\"Enter the 1st Number:\"))\n",
    "    num2 = float(input(\"Enter the 2nd Number:\"))\n",
    "    print(f\"The Subtraction of {num1} and {num2} are:\",num1 - num2)\n",
    "elif select == 3:\n",
    "    num1 = float(input(\"Enter the 1st Number:\"))\n",
    "    num2 = float(input(\"Enter the 2nd Number:\"))\n",
    "    print(f\"The Multiplication of {num1} and {num2} are:\",num1 * num2)\n",
    "elif select == 4:\n",
    "    num1 = float(input(\"Enter the 1st Number:\"))\n",
    "    num2 = float(input(\"Enter the 2nd Number:\"))\n",
    "    print(f\"The Division of {num1} and {num2} are:\",num1 / num2)\n",
    "elif select == 5:\n",
    "    num1 = float(input(\"Enter the Base:\"))\n",
    "    num2 = float(input(\"Enter the Exponent:\"))\n",
    "    print(f\"The Power of base {num1} rasised to power {num2} are:\",num1 ** num2)\n",
    "else:\n",
    "    print(\"Invalid Selection\")"
   ]
  }
 ],
 "metadata": {
  "kernelspec": {
   "display_name": "Python 3",
   "language": "python",
   "name": "python3"
  },
  "language_info": {
   "codemirror_mode": {
    "name": "ipython",
    "version": 3
   },
   "file_extension": ".py",
   "mimetype": "text/x-python",
   "name": "python",
   "nbconvert_exporter": "python",
   "pygments_lexer": "ipython3",
   "version": "3.7.4"
  }
 },
 "nbformat": 4,
 "nbformat_minor": 2
}
