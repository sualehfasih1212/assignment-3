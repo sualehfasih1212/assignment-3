{
 "cells": [
  {
   "cell_type": "code",
   "execution_count": 6,
   "metadata": {},
   "outputs": [
    {
     "name": "stdout",
     "output_type": "stream",
     "text": [
      "Yes, There is a Numeric value in the List, are 1998:\n"
     ]
    }
   ],
   "source": [
    "list = [\"Dawood\", \"1998\", '@', \"3.147\", \"01CB78FE\"]\n",
    "for check in list:\n",
    "    if check.isnumeric():\n",
    "        print(f\"Yes, There is a Numeric value in the List, are {check}:\")"
   ]
  }
 ],
 "metadata": {
  "kernelspec": {
   "display_name": "Python 3",
   "language": "python",
   "name": "python3"
  },
  "language_info": {
   "codemirror_mode": {
    "name": "ipython",
    "version": 3
   },
   "file_extension": ".py",
   "mimetype": "text/x-python",
   "name": "python",
   "nbconvert_exporter": "python",
   "pygments_lexer": "ipython3",
   "version": "3.7.4"
  }
 },
 "nbformat": 4,
 "nbformat_minor": 2
}
