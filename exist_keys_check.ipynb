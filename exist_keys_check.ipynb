{
 "cells": [
  {
   "cell_type": "code",
   "execution_count": 25,
   "metadata": {},
   "outputs": [
    {
     "name": "stdout",
     "output_type": "stream",
     "text": [
      "Enter your keys:1000\n",
      "Your enteres key isn't exist in Dictionary\n"
     ]
    }
   ],
   "source": [
    "dict = {\n",
    "    1: \"Dawood\",\n",
    "    2: \"Mahd\",\n",
    "    3: \"Mustafa\",\n",
    "    4: \"Sear\"\n",
    "}\n",
    "key = int(input(\"Enter your keys:\"))\n",
    "if key in dict:\n",
    "    print(\"Your enteres key already exist in Dictionary\")\n",
    "else:\n",
    "    print(\"Your enteres key isn't exist in Dictionary\")"
   ]
  }
 ],
 "metadata": {
  "kernelspec": {
   "display_name": "Python 3",
   "language": "python",
   "name": "python3"
  },
  "language_info": {
   "codemirror_mode": {
    "name": "ipython",
    "version": 3
   },
   "file_extension": ".py",
   "mimetype": "text/x-python",
   "name": "python",
   "nbconvert_exporter": "python",
   "pygments_lexer": "ipython3",
   "version": "3.7.4"
  }
 },
 "nbformat": 4,
 "nbformat_minor": 2
}
